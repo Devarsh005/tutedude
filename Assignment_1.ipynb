{
  "nbformat": 4,
  "nbformat_minor": 0,
  "metadata": {
    "colab": {
      "provenance": [],
      "authorship_tag": "ABX9TyNWNajGWrIuCFX2oXUfDW4V",
      "include_colab_link": true
    },
    "kernelspec": {
      "name": "python3",
      "display_name": "Python 3"
    },
    "language_info": {
      "name": "python"
    }
  },
  "cells": [
    {
      "cell_type": "markdown",
      "metadata": {
        "id": "view-in-github",
        "colab_type": "text"
      },
      "source": [
        "<a href=\"https://colab.research.google.com/github/Devarsh005/tutedude/blob/main/Assignment_1.ipynb\" target=\"_parent\"><img src=\"https://colab.research.google.com/assets/colab-badge.svg\" alt=\"Open In Colab\"/></a>"
      ]
    },
    {
      "cell_type": "markdown",
      "source": [
        "# Task 1"
      ],
      "metadata": {
        "id": "wM1vEA7gk1SK"
      }
    },
    {
      "cell_type": "code",
      "execution_count": 3,
      "metadata": {
        "colab": {
          "base_uri": "https://localhost:8080/"
        },
        "id": "FWPQ52rXjhAd",
        "outputId": "70749423-7c8a-4e7b-f32b-18c4e7d55d3b"
      },
      "outputs": [
        {
          "output_type": "stream",
          "name": "stdout",
          "text": [
            "enter a number10\n",
            "enter a number30\n",
            "additon = 40\n"
          ]
        }
      ],
      "source": [
        "num1 = int(input(\"enter a number\"))\n",
        "num2 = int(input(\"enter a number\"))\n",
        "\n",
        "# addition\n",
        "addition = num1 + num2\n",
        "print(f\"additon = {addition}\")"
      ]
    },
    {
      "cell_type": "code",
      "source": [
        "substraction = num1 - num2\n",
        "print(f\"substatction = {substraction}\")"
      ],
      "metadata": {
        "colab": {
          "base_uri": "https://localhost:8080/"
        },
        "id": "Afe7Eip_j4hZ",
        "outputId": "331d9e8f-90f2-48b1-d6f8-8a5a176a6ed5"
      },
      "execution_count": 7,
      "outputs": [
        {
          "output_type": "stream",
          "name": "stdout",
          "text": [
            "substatction = -20\n"
          ]
        }
      ]
    },
    {
      "cell_type": "code",
      "source": [
        "multiplication = num1 * num2"
      ],
      "metadata": {
        "id": "73N-ay8LkXQF"
      },
      "execution_count": 8,
      "outputs": []
    },
    {
      "cell_type": "code",
      "source": [
        "print(f\"multiplication = {multiplication}\")"
      ],
      "metadata": {
        "colab": {
          "base_uri": "https://localhost:8080/"
        },
        "id": "eKlgHE-bkbbW",
        "outputId": "c1cd48ae-29d5-44b4-98da-bf67418dd3d9"
      },
      "execution_count": 11,
      "outputs": [
        {
          "output_type": "stream",
          "name": "stdout",
          "text": [
            "multiplication = 300\n"
          ]
        }
      ]
    },
    {
      "cell_type": "code",
      "source": [
        "division = num1 / num2\n",
        "print(f\"division = {division}\")"
      ],
      "metadata": {
        "colab": {
          "base_uri": "https://localhost:8080/"
        },
        "id": "7BGVqkyTkjJ8",
        "outputId": "9b38c543-f105-49a9-f269-faabe1610a9c"
      },
      "execution_count": 13,
      "outputs": [
        {
          "output_type": "stream",
          "name": "stdout",
          "text": [
            "division = 0.3333333333333333\n"
          ]
        }
      ]
    },
    {
      "cell_type": "markdown",
      "source": [
        "# Task 2"
      ],
      "metadata": {
        "id": "pXmAuSThlQzb"
      }
    },
    {
      "cell_type": "code",
      "source": [
        "firstname = input(\"enter first name\")\n",
        "lastname = input(\"enter last name\")"
      ],
      "metadata": {
        "colab": {
          "base_uri": "https://localhost:8080/",
          "height": 72
        },
        "id": "eMewrovhknc0",
        "outputId": "9db52ec4-fbc4-4553-c532-7872521c0cc2"
      },
      "execution_count": 14,
      "outputs": [
        {
          "name": "stdout",
          "output_type": "stream",
          "text": [
            "enter first nameDevarsh\n",
            "enter last nameRathod\n"
          ]
        },
        {
          "output_type": "execute_result",
          "data": {
            "text/plain": [
              "\"hello ('Devarsh', 'Rathod') ('Devarsh', 'Rathod') welcome to our python program!\""
            ],
            "application/vnd.google.colaboratory.intrinsic+json": {
              "type": "string"
            }
          },
          "metadata": {},
          "execution_count": 14
        }
      ]
    },
    {
      "cell_type": "code",
      "source": [
        "def greet(*args):\n",
        "  return f\"hello {args[0]} {args[1]} welcome to our python program!\"\n",
        "greet(firstname , lastname)"
      ],
      "metadata": {
        "colab": {
          "base_uri": "https://localhost:8080/",
          "height": 36
        },
        "id": "wQ2ZDTuAl3XJ",
        "outputId": "426c21bc-49d4-413d-dc48-81007c61c4e2"
      },
      "execution_count": 15,
      "outputs": [
        {
          "output_type": "execute_result",
          "data": {
            "text/plain": [
              "'hello Devarsh Rathod welcome to our python program!'"
            ],
            "application/vnd.google.colaboratory.intrinsic+json": {
              "type": "string"
            }
          },
          "metadata": {},
          "execution_count": 15
        }
      ]
    },
    {
      "cell_type": "code",
      "source": [],
      "metadata": {
        "id": "BoFnqfTBmDHQ"
      },
      "execution_count": null,
      "outputs": []
    }
  ]
}