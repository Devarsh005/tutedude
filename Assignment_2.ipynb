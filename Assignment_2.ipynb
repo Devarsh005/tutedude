{
  "nbformat": 4,
  "nbformat_minor": 0,
  "metadata": {
    "colab": {
      "provenance": [],
      "authorship_tag": "ABX9TyO0OSgvw7975XJ3GziG0Vpy",
      "include_colab_link": true
    },
    "kernelspec": {
      "name": "python3",
      "display_name": "Python 3"
    },
    "language_info": {
      "name": "python"
    }
  },
  "cells": [
    {
      "cell_type": "markdown",
      "metadata": {
        "id": "view-in-github",
        "colab_type": "text"
      },
      "source": [
        "<a href=\"https://colab.research.google.com/github/Devarsh005/tutedude/blob/main/Assignment_2.ipynb\" target=\"_parent\"><img src=\"https://colab.research.google.com/assets/colab-badge.svg\" alt=\"Open In Colab\"/></a>"
      ]
    },
    {
      "cell_type": "markdown",
      "source": [
        "# Task 1: Check if a Number is Even or Odd\n",
        "Problem Statement:  Write a Python program that:\n",
        "1. \tTakes an integer input from the user.\n",
        "2. \tChecks whether the number is even or odd using an if-else statement.\n",
        "3. \tDisplays the result accordingly.\n"
      ],
      "metadata": {
        "id": "_CkblKnCoQk9"
      }
    },
    {
      "cell_type": "code",
      "source": [
        "number = int(input(\"enter any number\"))\n",
        "\n",
        "if number % 2 == 0:\n",
        "  print(f\"{number} is even\")\n",
        "else:\n",
        "  print(f\"{number} is odd\")"
      ],
      "metadata": {
        "colab": {
          "base_uri": "https://localhost:8080/"
        },
        "id": "_tyM6MbKoGZ7",
        "outputId": "e4967375-6155-4a65-cfcb-6cac16f2f4e7"
      },
      "execution_count": 4,
      "outputs": [
        {
          "output_type": "stream",
          "name": "stdout",
          "text": [
            "enter any number10\n",
            "10 is even\n"
          ]
        }
      ]
    },
    {
      "cell_type": "markdown",
      "source": [
        "# Task 2: Sum of Integers from 1 to 50 Using a Loop\n",
        "\n",
        "Problem Statement: Write a Python program that:\n",
        "1.   Uses a for loop to iterate over numbers from 1 to 50.\n",
        "2.   Calculates the sum of all integers in this range.\n",
        "3.   Displays the final sum.\n"
      ],
      "metadata": {
        "id": "j8iI4YJ7pvhI"
      }
    },
    {
      "cell_type": "code",
      "source": [
        "initial_sum = 0\n",
        "for num in range(50):\n",
        "  initial_sum += num\n",
        "print(f'the final sum -> {initial_sum}')"
      ],
      "metadata": {
        "colab": {
          "base_uri": "https://localhost:8080/"
        },
        "id": "ifUGgWESo2Am",
        "outputId": "19063563-76c9-47ef-ff6d-043a3393cd52"
      },
      "execution_count": 5,
      "outputs": [
        {
          "output_type": "stream",
          "name": "stdout",
          "text": [
            "the final sum -> 1225\n"
          ]
        }
      ]
    }
  ]
}